{
  "nbformat": 4,
  "nbformat_minor": 0,
  "metadata": {
    "colab": {
      "name": "LUP.c",
      "provenance": [],
      "collapsed_sections": [],
      "authorship_tag": "ABX9TyM6g5Oze78j7ZllgeA+LQ8v",
      "include_colab_link": true
    },
    "kernelspec": {
      "name": "python3",
      "display_name": "Python 3"
    },
    "language_info": {
      "name": "python"
    }
  },
  "cells": [
    {
      "cell_type": "markdown",
      "metadata": {
        "id": "view-in-github",
        "colab_type": "text"
      },
      "source": [
        "<a href=\"https://colab.research.google.com/github/rkadam61001/LUP-Decomposition/blob/main/LUP_c.ipynb\" target=\"_parent\"><img src=\"https://colab.research.google.com/assets/colab-badge.svg\" alt=\"Open In Colab\"/></a>"
      ]
    },
    {
      "cell_type": "code",
      "execution_count": 14,
      "metadata": {
        "colab": {
          "base_uri": "https://localhost:8080/"
        },
        "id": "aXE41L3G_PHX",
        "outputId": "b6138e51-2ceb-4655-bf6c-6c55ab5015e0"
      },
      "outputs": [
        {
          "output_type": "stream",
          "name": "stdout",
          "text": [
            "Overwriting LUP.c\n"
          ]
        }
      ],
      "source": [
        "%%writefile LUP.c\n",
        "\n",
        "#include<stdio.h>\n",
        "void main()\n",
        "{\n",
        "    float A[20][20]= {0},L[20][20]= {0}, U[20][20];\n",
        "    float B[20]= {0}, X[20]= {0},Y[20]= {0};\n",
        "    int i,j,k,n;\n",
        "    printf(\"Enter the order of square matrix: \");\n",
        "    scanf(\"%d\",&n);\n",
        "    printf(\"\\nEnter matrix element:\\n\");\n",
        "    for(i=0; i<n; i++)\n",
        "    {\n",
        "        for(j=0; j<n; j++)\n",
        "        {\n",
        "            printf(\"Enter A[%d][%d] element: \", i,j);\n",
        "            scanf(\"%f\",&A[i][j]);\n",
        "        }\n",
        "    }\n",
        "    printf(\"\\nEnter the constant terms: \\n\");\n",
        "    for(i=0; i<n; i++)\n",
        "    {\n",
        "        printf(\"B[%d]\",i);\n",
        "        scanf(\"%f\",&B[i]);\n",
        "    }\n",
        "    for(j=0; j<n; j++)\n",
        "    {\n",
        "        for(i=0; i<n; i++)\n",
        "        {\n",
        "            if(i<=j)\n",
        "            {\n",
        "                U[i][j]=A[i][j];\n",
        "                for(k=0; k<i-1; k++)\n",
        "                    U[i][j]-=L[i][k]*U[k][j];\n",
        "                if(i==j)\n",
        "                    L[i][j]=1;\n",
        "                else\n",
        "                    L[i][j]=0;\n",
        "            }\n",
        "            else\n",
        "            {\n",
        "                L[i][j]=A[i][j];\n",
        "                for(k=0; k<=j-1; k++)\n",
        "                    L[i][j]-=L[i][k]*U[k][j];\n",
        "                L[i][j]/=U[j][j];\n",
        "                U[i][j]=0;\n",
        "            }\n",
        "        }\n",
        "    }\n",
        "    printf(\"[L]: \\n\");\n",
        "    for(i=0; i<n; i++)\n",
        "    {\n",
        "        for(j=0; j<n; j++)\n",
        "            printf(\"%9.3f\",L[i][j]);\n",
        "        printf(\"\\n\");\n",
        "    }\n",
        "    printf(\"\\n\\n[U]: \\n\");\n",
        "    for(i=0; i<n; i++)\n",
        "    {\n",
        "        for(j=0; j<n; j++)\n",
        "            printf(\"%9.3f\",U[i][j]);\n",
        "        printf(\"\\n\");\n",
        "    }\n",
        "    for(i=0; i<n; i++)\n",
        "    {\n",
        "        Y[i]=B[i];\n",
        "        for(j=0; j<i; j++)\n",
        "        {\n",
        "            Y[i]-=L[i][j]*Y[j];\n",
        "        }\n",
        "    }\n",
        "    printf(\"\\n\\n[Y]: \\n\");\n",
        "    for(i=0; i<n; i++)\n",
        "    {\n",
        "        printf(\"%9.3f\",Y[i]);\n",
        "    }\n",
        "    for(i=n-1; i>=0; i--)\n",
        "    {\n",
        "        X[i]= Y[i];\n",
        "        for(j=i+1; j<n; j++)\n",
        "        {\n",
        "            X[i]-=U[i][j]*X[j];\n",
        "        }\n",
        "        X[i]/=U[i][i];\n",
        "    }\n",
        "    printf(\"\\n\\n[X]: \\n\");\n",
        "    for(i=0; i<n; i++)\n",
        "    {\n",
        "        printf(\"%9.3f\",X[i]);\n",
        "    }\n",
        "    \n",
        "}"
      ]
    },
    {
      "cell_type": "code",
      "source": [
        "%%shell\n",
        "gcc LUP.c -o output\n",
        "./output"
      ],
      "metadata": {
        "colab": {
          "base_uri": "https://localhost:8080/"
        },
        "id": "CXWECVcF_7gM",
        "outputId": "cb1eee23-8c31-4c84-8d46-723019e9d0bf"
      },
      "execution_count": 16,
      "outputs": [
        {
          "output_type": "stream",
          "name": "stdout",
          "text": [
            "Enter the order of square matrix: 4\n",
            "\n",
            "Enter matrix element:\n",
            "Enter A[0][0] element: 12\n",
            "Enter A[0][1] element: 10\n",
            "Enter A[0][2] element: 10\n",
            "Enter A[0][3] element: 12\n",
            "Enter A[1][0] element: 6\n",
            "Enter A[1][1] element: 7\n",
            "Enter A[1][2] element: 4\n",
            "Enter A[1][3] element: 2\n",
            "Enter A[2][0] element: 8\n",
            "Enter A[2][1] element: 10\n",
            "Enter A[2][2] element: 11\n",
            "Enter A[2][3] element: 7\n",
            "Enter A[3][0] element: 8\n",
            "Enter A[3][1] element: 6\n",
            "Enter A[3][2] element: 12\n",
            "Enter A[3][3] element: 4\n",
            "\n",
            "Enter the constant terms: \n",
            "B[0]166\n",
            "B[1]112\n",
            "B[2]161\n",
            "B[3]173\n",
            "[L]: \n",
            "    1.000    0.000    0.000    0.000\n",
            "    0.500    1.000    0.000    0.000\n",
            "    0.667    0.476    1.000    0.000\n",
            "    0.667   -0.095    1.319    1.000\n",
            "\n",
            "\n",
            "[U]: \n",
            "   12.000   10.000   10.000   12.000\n",
            "    0.000    7.000    4.000    2.000\n",
            "    0.000    0.000    4.333   -1.000\n",
            "    0.000    0.000    0.000   -3.810\n",
            "\n",
            "\n",
            "[Y]: \n",
            "  166.000   29.000   36.524   16.932\n",
            "\n",
            "[X]: \n",
            "   11.123    1.183    7.403   -4.445"
          ]
        },
        {
          "output_type": "execute_result",
          "data": {
            "text/plain": [
              ""
            ]
          },
          "metadata": {},
          "execution_count": 16
        }
      ]
    }
  ]
}