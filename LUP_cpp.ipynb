{
  "nbformat": 4,
  "nbformat_minor": 0,
  "metadata": {
    "colab": {
      "name": "LUP.cpp",
      "provenance": [],
      "authorship_tag": "ABX9TyMgtzWWXiJ64VriftxgeWji",
      "include_colab_link": true
    },
    "kernelspec": {
      "name": "python3",
      "display_name": "Python 3"
    },
    "language_info": {
      "name": "python"
    }
  },
  "cells": [
    {
      "cell_type": "markdown",
      "metadata": {
        "id": "view-in-github",
        "colab_type": "text"
      },
      "source": [
        "<a href=\"https://colab.research.google.com/github/rkadam61001/LUP-Decomposition/blob/main/LUP_cpp.ipynb\" target=\"_parent\"><img src=\"https://colab.research.google.com/assets/colab-badge.svg\" alt=\"Open In Colab\"/></a>"
      ]
    },
    {
      "cell_type": "code",
      "execution_count": 4,
      "metadata": {
        "colab": {
          "base_uri": "https://localhost:8080/"
        },
        "id": "aXE41L3G_PHX",
        "outputId": "cd8f144a-3826-40c6-e7ac-0f552efdf219"
      },
      "outputs": [
        {
          "output_type": "stream",
          "name": "stdout",
          "text": [
            "Overwriting LUP.cpp\n"
          ]
        }
      ],
      "source": [
        "%%writefile LUP.cpp\n",
        "#include <bits/stdc++.h>\n",
        "using namespace std;\n",
        " \n",
        "const int MAX = 100;\n",
        " \n",
        "void luDecomposition(int mat[][MAX], int n)\n",
        "{\n",
        "    int lower[n][n], upper[n][n];\n",
        "    memset(lower, 0, sizeof(lower));\n",
        "    memset(upper, 0, sizeof(upper));\n",
        " \n",
        "    // Decomposing matrix into Upper and Lower\n",
        "    // triangular matrix\n",
        "    for (int i = 0; i < n; i++)\n",
        "    {\n",
        "        // Upper Triangular\n",
        "        for (int k = i; k < n; k++)\n",
        "        {\n",
        "            // Summation of L(i, j) * U(j, k)\n",
        "            int sum = 0;\n",
        "            for (int j = 0; j < i; j++)\n",
        "                sum += (lower[i][j] * upper[j][k]);\n",
        " \n",
        "            // Evaluating U(i, k)\n",
        "            upper[i][k] = mat[i][k] - sum;\n",
        "        }\n",
        " \n",
        "        // Lower Triangular\n",
        "        for (int k = i; k < n; k++)\n",
        "        {\n",
        "            if (i == k)\n",
        "                lower[i][i] = 1; // Diagonal as 1\n",
        "            else\n",
        "            {\n",
        "                // Summation of L(k, j) * U(j, i)\n",
        "                int sum = 0;\n",
        "                for (int j = 0; j < i; j++)\n",
        "                    sum += (lower[k][j] * upper[j][i]);\n",
        " \n",
        "                // Evaluating L(k, i)\n",
        "                lower[k][i]\n",
        "                    = (mat[k][i] - sum) / upper[i][i];\n",
        "            }\n",
        "        }\n",
        "    }\n",
        " \n",
        "    // setw is for displaying nicely\n",
        "    cout << setw(6)\n",
        "         << \"      Lower Triangular\"\n",
        "         << setw(32)\n",
        "         << \"Upper Triangular\" << endl;\n",
        " \n",
        "    // Displaying the result :\n",
        "    for (int i = 0; i < n; i++)\n",
        "    {\n",
        "        // Lower\n",
        "        for (int j = 0; j < n; j++)\n",
        "            cout << setw(6) << lower[i][j] << \"\\t\";\n",
        "        cout << \"\\t\";\n",
        " \n",
        "        // Upper\n",
        "        for (int j = 0; j < n; j++)\n",
        "            cout << setw(6) << upper[i][j] << \"\\t\";\n",
        "        cout << endl;\n",
        "    }\n",
        "}\n",
        " \n",
        "int main()\n",
        "{\n",
        "    int mat[][MAX]\n",
        "        = { { 3, -1, -3 }, { -4, 5, 3 }, { -4, -1, 8 } };\n",
        " \n",
        "    luDecomposition(mat, 3);\n",
        "    return 0;\n",
        "}"
      ]
    },
    {
      "cell_type": "code",
      "source": [
        "%%shell\n",
        "g++ LUP.cpp -o output\n",
        "./output"
      ],
      "metadata": {
        "colab": {
          "base_uri": "https://localhost:8080/"
        },
        "id": "CXWECVcF_7gM",
        "outputId": "bd1d936a-1da3-441a-a715-386717835382"
      },
      "execution_count": 5,
      "outputs": [
        {
          "output_type": "stream",
          "name": "stdout",
          "text": [
            "      Lower Triangular                Upper Triangular\n",
            "     1\t     0\t     0\t\t     3\t    -1\t    -3\t\n",
            "    -1\t     1\t     0\t\t     0\t     4\t     0\t\n",
            "    -1\t     0\t     1\t\t     0\t     0\t     5\t\n"
          ]
        },
        {
          "output_type": "execute_result",
          "data": {
            "text/plain": [
              ""
            ]
          },
          "metadata": {},
          "execution_count": 5
        }
      ]
    }
  ]
}